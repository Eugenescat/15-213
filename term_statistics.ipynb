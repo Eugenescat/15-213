{
  "nbformat": 4,
  "nbformat_minor": 0,
  "metadata": {
    "colab": {
      "name": "term-statistics.ipynb",
      "provenance": [],
      "include_colab_link": true
    },
    "kernelspec": {
      "name": "python3",
      "display_name": "Python 3"
    },
    "language_info": {
      "name": "python"
    }
  },
  "cells": [
    {
      "cell_type": "markdown",
      "metadata": {
        "id": "view-in-github",
        "colab_type": "text"
      },
      "source": [
        "<a href=\"https://colab.research.google.com/github/Eugenescat/15-213/blob/main/term_statistics.ipynb\" target=\"_parent\"><img src=\"https://colab.research.google.com/assets/colab-badge.svg\" alt=\"Open In Colab\"/></a>"
      ]
    },
    {
      "cell_type": "markdown",
      "metadata": {
        "id": "2yYCQrU0J5C5"
      },
      "source": [
        "# Working with Terms and Documents\n",
        "\n",
        "This exercise starts off with term statistics computations and graphing. In the final section (for CS6200 students), you collect new documents to experiment with.\n",
        "\n",
        "Read through this Jupyter notebook and fill in the parts marked with `TODO`."
      ]
    },
    {
      "cell_type": "markdown",
      "metadata": {
        "id": "tA4bCPS1MmAx"
      },
      "source": [
        "## Sample Data\n",
        "\n",
        "Start by looking at some sample data. We donwload the counts of terms in documents for the first one million tokens of a newswire collection."
      ]
    },
    {
      "cell_type": "code",
      "metadata": {
        "id": "W-IMINS4IFUg",
        "colab": {
          "base_uri": "https://localhost:8080/"
        },
        "outputId": "d8246db5-1e4e-40bf-94fe-d0ba0e00463b"
      },
      "source": [
        "!wget -O ap201001.json.gz https://github.com/dasmiq/cs6200-documents/blob/main/ap201001.json.gz?raw=true\n",
        "!gunzip ap201001.json.gz"
      ],
      "execution_count": 4,
      "outputs": [
        {
          "output_type": "stream",
          "name": "stdout",
          "text": [
            "--2025-02-04 21:00:28--  https://github.com/dasmiq/cs6200-documents/blob/main/ap201001.json.gz?raw=true\n",
            "Resolving github.com (github.com)... 140.82.113.4\n",
            "Connecting to github.com (github.com)|140.82.113.4|:443... connected.\n",
            "HTTP request sent, awaiting response... 302 Found\n",
            "Location: https://github.com/dasmiq/cs6200-documents/raw/refs/heads/main/ap201001.json.gz [following]\n",
            "--2025-02-04 21:00:28--  https://github.com/dasmiq/cs6200-documents/raw/refs/heads/main/ap201001.json.gz\n",
            "Reusing existing connection to github.com:443.\n",
            "HTTP request sent, awaiting response... 302 Found\n",
            "Location: https://raw.githubusercontent.com/dasmiq/cs6200-documents/refs/heads/main/ap201001.json.gz [following]\n",
            "--2025-02-04 21:00:28--  https://raw.githubusercontent.com/dasmiq/cs6200-documents/refs/heads/main/ap201001.json.gz\n",
            "Resolving raw.githubusercontent.com (raw.githubusercontent.com)... 185.199.111.133, 185.199.109.133, 185.199.108.133, ...\n",
            "Connecting to raw.githubusercontent.com (raw.githubusercontent.com)|185.199.111.133|:443... connected.\n",
            "HTTP request sent, awaiting response... 200 OK\n",
            "Length: 2854711 (2.7M) [application/octet-stream]\n",
            "Saving to: ‘ap201001.json.gz’\n",
            "\n",
            "ap201001.json.gz    100%[===================>]   2.72M  --.-KB/s    in 0.08s   \n",
            "\n",
            "2025-02-04 21:00:29 (35.4 MB/s) - ‘ap201001.json.gz’ saved [2854711/2854711]\n",
            "\n"
          ]
        }
      ]
    },
    {
      "cell_type": "markdown",
      "metadata": {
        "id": "_SEFjGZvM4lY"
      },
      "source": [
        "We convert this file with one JSON record on each line to a list of dictionaries."
      ]
    },
    {
      "cell_type": "code",
      "metadata": {
        "id": "6CrLD5SOIMz1"
      },
      "source": [
        "import json\n",
        "rawfile = open('ap201001.json')\n",
        "terms = [json.loads(line) for line in rawfile]"
      ],
      "execution_count": 5,
      "outputs": []
    },
    {
      "cell_type": "markdown",
      "metadata": {
        "id": "Rg4P9XJJM_lZ"
      },
      "source": [
        "Here are the first ten records, showing the count of each term for each document and field. In this dataset, field only takes the values `body` or `title`."
      ]
    },
    {
      "cell_type": "code",
      "metadata": {
        "colab": {
          "base_uri": "https://localhost:8080/"
        },
        "id": "g8GdOuyzI0wm",
        "outputId": "842c5f79-5f47-4934-b995-dffe787f77cc"
      },
      "source": [
        "terms[1:10]"
      ],
      "execution_count": 6,
      "outputs": [
        {
          "output_type": "execute_result",
          "data": {
            "text/plain": [
              "[{'id': 'APW_ENG_20100101.0001', 'field': 'body', 'term': 'about', 'count': 1},\n",
              " {'id': 'APW_ENG_20100101.0001', 'field': 'body', 'term': 'abuse', 'count': 1},\n",
              " {'id': 'APW_ENG_20100101.0001',\n",
              "  'field': 'body',\n",
              "  'term': 'academy',\n",
              "  'count': 1},\n",
              " {'id': 'APW_ENG_20100101.0001',\n",
              "  'field': 'body',\n",
              "  'term': 'accused',\n",
              "  'count': 2},\n",
              " {'id': 'APW_ENG_20100101.0001',\n",
              "  'field': 'body',\n",
              "  'term': 'actress',\n",
              "  'count': 1},\n",
              " {'id': 'APW_ENG_20100101.0001', 'field': 'body', 'term': 'ad', 'count': 1},\n",
              " {'id': 'APW_ENG_20100101.0001', 'field': 'body', 'term': 'after', 'count': 1},\n",
              " {'id': 'APW_ENG_20100101.0001',\n",
              "  'field': 'body',\n",
              "  'term': 'agenda',\n",
              "  'count': 1},\n",
              " {'id': 'APW_ENG_20100101.0001',\n",
              "  'field': 'body',\n",
              "  'term': 'agreed',\n",
              "  'count': 1}]"
            ]
          },
          "metadata": {},
          "execution_count": 6
        }
      ]
    },
    {
      "cell_type": "markdown",
      "metadata": {
        "id": "q-CjFLXH3BJg"
      },
      "source": [
        "Each record has four fields:\n",
        "* `id`, with the identifier for the document;\n",
        "* `field`, with the region of the document containing a given term;\n",
        "* `term`, with the lower-cased term; and\n",
        "* `count`, with the number of times each term occurred in that field and document."
      ]
    },
    {
      "cell_type": "markdown",
      "metadata": {
        "id": "2H5yBvEVNUPr"
      },
      "source": [
        "## Computing Term Statistics\n"
      ]
    },
    {
      "cell_type": "markdown",
      "metadata": {
        "id": "qhDt23kKv0Uy"
      },
      "source": [
        "If we look at the most frequent terms for a given document, we mostly see common function words, such as `the`, `and`, and `of`. Start exploring the dataset by computing some of these basic term statistics. You can make your life easier using data frame libraries such as `pandas`, core python libraries such as `collections`, or just simple list comprehensions.\n",
        "\n",
        "Feel free to define helper functions in your code before computing the statistics we're looking for."
      ]
    },
    {
      "cell_type": "code",
      "metadata": {
        "id": "2Zy5qR562nZ5",
        "colab": {
          "base_uri": "https://localhost:8080/"
        },
        "outputId": "8cff8777-563e-4efe-c0ab-ded72151fe7c"
      },
      "source": [
        "# TODO: Print the 10 terms from document APW_ENG_20100101.0001 with the highest count.\n",
        "\n",
        "from collections import defaultdict\n",
        "\n",
        "def top_terms_in_document(doc_id, terms, top_k=10):\n",
        "    term_counts = defaultdict(int)\n",
        "\n",
        "    for entry in terms:\n",
        "        if entry['id'] == doc_id:\n",
        "            term_counts[entry['term']] += entry['count']\n",
        "\n",
        "    top_terms = sorted(term_counts.items(), key=lambda x: -x[1])[:top_k]\n",
        "\n",
        "    print(f\"Top {top_k} terms in document {doc_id}:\")\n",
        "    for term, count in top_terms:\n",
        "        print(f\"{term}: {count}\")\n",
        "\n",
        "top_terms_in_document(\"APW_ENG_20100101.0001\", terms)\n"
      ],
      "execution_count": 7,
      "outputs": [
        {
          "output_type": "stream",
          "name": "stdout",
          "text": [
            "Top 10 terms in document APW_ENG_20100101.0001:\n",
            "a: 16\n",
            "the: 11\n",
            "and: 10\n",
            "brooks: 10\n",
            "of: 10\n",
            "to: 10\n",
            "he: 9\n",
            "in: 9\n",
            "gomez: 8\n",
            "for: 6\n"
          ]
        }
      ]
    },
    {
      "cell_type": "code",
      "metadata": {
        "id": "U7OwCo0w5R1q",
        "colab": {
          "base_uri": "https://localhost:8080/"
        },
        "outputId": "ed68af52-6918-4721-99d4-169041924934"
      },
      "source": [
        "# TODO: Print the 10 terms with the highest total count in the corpus.\n",
        "\n",
        "def top_terms_in_corpus(terms, top_k=10):\n",
        "    term_counts = defaultdict(int)\n",
        "\n",
        "    for entry in terms:\n",
        "        term_counts[entry['term']] += entry['count']\n",
        "\n",
        "    top_terms = sorted(term_counts.items(), key=lambda x: -x[1])[:top_k]\n",
        "\n",
        "    print(\"Top terms in the corpus:\")\n",
        "    for term, count in top_terms:\n",
        "        print(f\"{term}: {count}\")\n",
        "\n",
        "top_terms_in_corpus(terms)\n",
        "\n"
      ],
      "execution_count": 8,
      "outputs": [
        {
          "output_type": "stream",
          "name": "stdout",
          "text": [
            "Top terms in the corpus:\n",
            "the: 62216\n",
            "to: 26931\n",
            "in: 25659\n",
            "a: 23383\n",
            "of: 22326\n",
            "and: 22125\n",
            "said: 10888\n",
            "for: 9716\n",
            "on: 9382\n",
            "that: 8942\n"
          ]
        }
      ]
    },
    {
      "cell_type": "markdown",
      "metadata": {
        "id": "dnNEUACW23Dd"
      },
      "source": [
        "Raw counts may not be the most informative statistic. One common improvement is to use *inverse document frequency*, the inverse of the proportion of documents that contain a given term."
      ]
    },
    {
      "cell_type": "code",
      "metadata": {
        "id": "uiUA502P2QkH"
      },
      "source": [
        "# TODO: Compute the number of distinct documents in the collection.\n",
        "N = len(set(entry['id'] for entry in terms))\n",
        "\n",
        "# TODO: Compute the number of distinct documents each term appears in\n",
        "# and store in a dictionary.\n",
        "df = defaultdict(set)\n",
        "\n",
        "for entry in terms:\n",
        "    df[entry['term']].add(entry['id'])\n",
        "\n",
        "df = {term: len(docs) for term, docs in df.items()}\n"
      ],
      "execution_count": 9,
      "outputs": []
    },
    {
      "cell_type": "code",
      "metadata": {
        "id": "_XMPAKYNCq6Y",
        "colab": {
          "base_uri": "https://localhost:8080/"
        },
        "outputId": "147cdacf-d351-4734-835e-7c63d182d59e"
      },
      "source": [
        "# TODO: Print the relative document frequency of 'the',\n",
        "# i.e., the number of documents that contain 'the' divided by N.\n",
        "\n",
        "print(f\"Relative document frequency of 'the': {df.get('the', 0) / N:.6f}\")"
      ],
      "execution_count": 11,
      "outputs": [
        {
          "output_type": "stream",
          "name": "stdout",
          "text": [
            "Relative document frequency of 'the': 0.970482\n"
          ]
        }
      ]
    },
    {
      "cell_type": "markdown",
      "metadata": {
        "id": "ohFmwtc7Chy3"
      },
      "source": [
        "Empricially, we usually see better retrieval results if we rescale term frequency (within documents) and inverse document frequency (across documents) with the log function. Let the `tfidf` of term _t_ in document _d_ be:\n",
        "```\n",
        "tfidf(t, d) = log(count(t, d) + 1) * log(N / df(t))\n",
        "```\n",
        "\n",
        "Later in the course, we will show a probabilistic derivation of this quantity based on smoothing language models."
      ]
    },
    {
      "cell_type": "code",
      "metadata": {
        "id": "Fmyj4v_uHdyo"
      },
      "source": [
        "# TODO: Compute the tf-idf value for each term in each document.\n",
        "# Take the raw term data and add a tfidf field to each record.\n",
        "tfidf_terms = None\n",
        "\n",
        "import math\n",
        "\n",
        "tfidf_terms = []\n",
        "\n",
        "for entry in terms:\n",
        "    term = entry['term']\n",
        "    doc_id = entry['id']\n",
        "    count = entry['count']\n",
        "\n",
        "    if term in df and df[term] > 0:\n",
        "        tf = math.log(count + 1)\n",
        "        idf = math.log(N / df[term])\n",
        "        tfidf_value = tf * idf\n",
        "\n",
        "        tfidf_entry = entry.copy()\n",
        "        tfidf_entry['tfidf'] = tfidf_value\n",
        "        tfidf_terms.append(tfidf_entry)\n",
        "\n",
        "top_tfidf_terms = sorted(tfidf_terms, key=lambda x: -x['tfidf'])[:20]\n"
      ],
      "execution_count": 12,
      "outputs": []
    },
    {
      "cell_type": "code",
      "metadata": {
        "id": "NlXQmMO9HxH0",
        "colab": {
          "base_uri": "https://localhost:8080/"
        },
        "outputId": "97040ef9-fe39-4f73-a74a-3a23cb774c0a"
      },
      "source": [
        "# TODO: Print the 20 term-document pairs with the highest tf-idf values.\n",
        "print(\"the 20 term-document pairs with the highest tf-idf values:\")\n",
        "for entry in top_tfidf_terms:\n",
        "    print(f\"{entry['id']} - {entry['term']}: {entry['tfidf']:.6f}\")"
      ],
      "execution_count": 13,
      "outputs": [
        {
          "output_type": "stream",
          "name": "stdout",
          "text": [
            "the 20 term-document pairs with the highest tf-idf values:\n",
            "APW_ENG_20100103.0028 - guarani: 23.292878\n",
            "APW_ENG_20100105.0061 - nomination: 22.519372\n",
            "APW_ENG_20100105.0446 - methane: 21.985205\n",
            "APW_ENG_20100103.0015 - kheire: 21.473448\n",
            "APW_ENG_20100105.0014 - greyhound: 21.473448\n",
            "APW_ENG_20100107.0036 - shakespeare: 21.306960\n",
            "APW_ENG_20100105.0061 - guild: 20.667543\n",
            "APW_ENG_20100106.0428 - shakespeare: 20.502093\n",
            "APW_ENG_20100102.0197 - elkhart: 20.338731\n",
            "APW_ENG_20100106.0075 - magna: 20.338731\n",
            "APW_ENG_20100106.1325 - sutton: 19.920895\n",
            "APW_ENG_20100104.0043 - tohti: 19.704034\n",
            "APW_ENG_20100105.0014 - greyhounds: 19.704034\n",
            "APW_ENG_20100107.0018 - krewe: 19.704034\n",
            "APW_ENG_20100107.0928 - minhas: 19.704034\n",
            "APW_ENG_20100105.0061 - golden: 19.302647\n",
            "APW_ENG_20100105.0061 - actors: 19.280794\n",
            "APW_ENG_20100107.0018 - pirate: 19.241530\n",
            "APW_ENG_20100103.0016 - punk: 19.097114\n",
            "APW_ENG_20100104.0108 - shiites: 19.014078\n"
          ]
        }
      ]
    },
    {
      "cell_type": "markdown",
      "metadata": {
        "id": "f61xitl1IApl"
      },
      "source": [
        "## Plotting Term Distributions\n",
        "\n",
        "Besides frequencies and tf-idf values within documents, it is often helpful to look at the distrubitions of word frequencies in the whole collection. In class, we talk about the Zipf distribution of word rank versus frequency and Heaps' Law relating the number of distinct words to the number of tokens.\n",
        "\n",
        "We might examine these distributions to see, for instance, if an unexpectedly large number of very rare terms occurs, which might indicate noise added to our data."
      ]
    },
    {
      "cell_type": "code",
      "metadata": {
        "id": "fsM5k1_5Jj7Y"
      },
      "source": [
        "# TODO: Compute a list of the distinct words in this collection and sort it in descending order of frequency.\n",
        "# Thus frequency[0] should contain the word \"the\" and the count 62216.\n",
        "term_freq = defaultdict(int)\n",
        "\n",
        "for entry in terms:\n",
        "    term_freq[entry['term']] += entry['count']\n",
        "\n",
        "frequency = sorted(term_freq.items(), key=lambda x: -x[1])"
      ],
      "execution_count": 14,
      "outputs": []
    },
    {
      "cell_type": "code",
      "metadata": {
        "id": "hdtc14EULkxS",
        "colab": {
          "base_uri": "https://localhost:8080/",
          "height": 564
        },
        "outputId": "3428637c-4a3e-4219-fe19-d081e25769e1"
      },
      "source": [
        "# TODO: Plot a graph of the log of the rank (starting at 1) on the x-axis,\n",
        "# against the log of the frequency on the y-axis. You may use the matplotlib\n",
        "# or other library.\n",
        "\n",
        "import matplotlib.pyplot as plt\n",
        "import numpy as np\n",
        "\n",
        "ranks = np.log10(np.arange(1, len(frequency) + 1))\n",
        "frequencies = np.log10([count for _, count in frequency])\n",
        "\n",
        "plt.figure(figsize=(8,6))\n",
        "plt.plot(ranks, frequencies, marker='o', linestyle='none')\n",
        "plt.xlabel(\"log(rank)\")\n",
        "plt.ylabel(\"log(frequency)\")\n",
        "plt.title(\"Zipf's Law: Term Rank vs Frequency\")\n",
        "plt.show()\n"
      ],
      "execution_count": 15,
      "outputs": [
        {
          "output_type": "display_data",
          "data": {
            "text/plain": [
              "<Figure size 800x600 with 1 Axes>"
            ],
            "image/png": "[encoded data removed]"
          },
          "metadata": {}
        }
      ]
    },
    {
      "cell_type": "code",
      "source": [
        "# TODO: Compute the number of tokens in the corpus.\n",
        "# Remember to count each occurrence of each word. For instance, the 62,216\n",
        "# instances of \"the\" will all count here.\n",
        "ntokens = sum(entry['count'] for entry in terms)\n",
        "print(f\"the number of tokens in the corpus: {ntokens}\")\n"
      ],
      "metadata": {
        "id": "-WdHjFCSC7WC",
        "colab": {
          "base_uri": "https://localhost:8080/"
        },
        "outputId": "57904c90-5ad4-4d5c-975c-b4a6b468ee7e"
      },
      "execution_count": 16,
      "outputs": [
        {
          "output_type": "stream",
          "name": "stdout",
          "text": [
            "the number of tokens in the corpus: 1000000\n"
          ]
        }
      ]
    },
    {
      "cell_type": "code",
      "source": [
        "# TODO: Compute the proportion of tokens made up by the top 10 most\n",
        "# frequent words.\n",
        "top_10_words_count = sum(count for _, count in frequency[:10])\n",
        "print(f\"the proportion of tokens made up by the top 10 most frequent words: {top_10_words_count / ntokens:.4f}\")\n"
      ],
      "metadata": {
        "id": "V_7wOcqKAz9m",
        "colab": {
          "base_uri": "https://localhost:8080/"
        },
        "outputId": "9c1851ba-54d1-477b-924e-03e90bcee06b"
      },
      "execution_count": 17,
      "outputs": [
        {
          "output_type": "stream",
          "name": "stdout",
          "text": [
            "the proportion of tokens made up by the top 10 most frequent words: 0.2216\n"
          ]
        }
      ]
    },
    {
      "cell_type": "code",
      "source": [
        "# TODO: Compute the proportion of tokens made up by the words that occur\n",
        "# exactly once in this collection.\n",
        "one_occurrence_count = sum(1 for _, count in frequency if count == 1)\n",
        "print(f\"📌 the proportion of tokens made up by the words that occur exactly once in this collection: {one_occurrence_count / len(frequency):.4f}\")"
      ],
      "metadata": {
        "id": "uF-1VxcZBXMM",
        "colab": {
          "base_uri": "https://localhost:8080/"
        },
        "outputId": "770c30a7-61a3-40dd-9541-003aa7558561"
      },
      "execution_count": 18,
      "outputs": [
        {
          "output_type": "stream",
          "name": "stdout",
          "text": [
            "📌 the proportion of tokens made up by the words that occur exactly once in this collection: 0.2410\n"
          ]
        }
      ]
    },
    {
      "cell_type": "markdown",
      "metadata": {
        "id": "GdiUXaXZMFqT"
      },
      "source": [
        "## Acquiring New Documents (for CS6200)\n",
        "\n",
        "For this assignment so far, you've worked with data that's already been extracted, tokenized, and counted. In this final section, you'll explore acquiring new data.\n",
        "\n",
        "One common way of acquiring data is through application programming interfaces (APIs) to various databases. The Library of Congress's [_Chronicling America_](https://chroniclingamerica.loc.gov/) site aggregates digitized US newspapers from the past two hundred years, such as the [_Seattle Star_](https://chroniclingamerica.loc.gov/lccn/sn87093407/1925-01-17/ed-1/seq-1/) from 100 years ago.\n",
        "\n",
        "You can use [the API](https://chroniclingamerica.loc.gov/about/api/) to retrieve JSON data listing all issues of the _Seattle Star_: https://chroniclingamerica.loc.gov/lccn/sn87093407.json\n",
        "\n",
        "Note the list in the `issues` field. For example, here is the record for the January 17, 1925, issue: https://chroniclingamerica.loc.gov/lccn/sn87093407/1925-01-17/ed-1.json\n",
        "\n",
        "In that issue record, you'll see records for each page, e.g.: https://chroniclingamerica.loc.gov/lccn/sn87093407/1925-01-17/ed-1/seq-1.json\n",
        "\n",
        "And inside that page record, you'll see links to data about that page in various data formats, such as JPEG, PDF, and plain text, which is what we want here: https://chroniclingamerica.loc.gov/lccn/sn87093407/1925-01-17/ed-1/seq-1/ocr.txt\n",
        "\n",
        "This plain text was transcribed from the old page images using optical character recognition (OCR) models, and so contains errors.\n",
        "\n",
        "Your task is to acquire and analyze the issues of the _Seattle Star_ from the month of January, 1925, i.e., the issues with a date field that starts with `1925-01`. This should be about the same amount of data as the million words from the Associated Press you analyzed in the last section."
      ]
    },
    {
      "cell_type": "markdown",
      "metadata": {
        "id": "EGPVnXv2O6AN"
      },
      "source": [
        "**TODO**: Write code that calls the _Chronicling America_ API to download and extract the text from the _Seattle Star_ from January 1925. You can use the `json` library from above and any other libraries you wish to fetch data from URLs. As you would when working with any production API, you may need to limit your rate of requests."
      ]
    },
    {
      "cell_type": "code",
      "metadata": {
        "id": "VeDDz1SaPLik",
        "colab": {
          "base_uri": "https://localhost:8080/",
          "height": 233
        },
        "outputId": "52f03476-a7f3-473e-d033-0967389bab46"
      },
      "source": [
        "# TODO: Data acquisition code here.\n",
        "import requests\n",
        "import time\n",
        "\n",
        "# list\n",
        "url = \"https://chroniclingamerica.loc.gov/lccn/sn87093407.json\"\n",
        "response = requests.get(url)\n",
        "\n",
        "if response.status_code == 200:\n",
        "    data = response.json()\n",
        "else:\n",
        "    print(f\"Web Crawling Error: {response.status_code}\")\n",
        "    exit()\n",
        "\n",
        "# filter by 1925-01\n",
        "jan_1925_issues = [issue for issue in data[\"issues\"] if issue[\"date_issued\"].startswith(\"1925-01\")]\n",
        "print(jan_1925_issues)\n",
        "\n",
        "# retrieve texts\n",
        "text_data = []\n",
        "for issue in jan_1925_issues:\n",
        "    issue_url = issue[\"url\"]\n",
        "    response = requests.get(issue_url)\n",
        "    if response.status_code != 200:\n",
        "        print(f\"Web Crawling Error: {response.status_code}\")\n",
        "        exit()\n",
        "    time.sleep(1)\n",
        "    pages_info = response.json()[\"pages\"]\n",
        "    for page_info in pages_info:\n",
        "        page_url = page_info[\"url\"]\n",
        "        page_response = requests.get(page_url)\n",
        "\n",
        "        if page_response.status_code != 200:\n",
        "          print(f\"Web Crawling Error: {response.status_code}\")\n",
        "          exit()\n",
        "        time.sleep(1)\n",
        "\n",
        "        text_url = page_response.json()[\"text\"]\n",
        "        text_response = requests.get(text_url)\n",
        "\n",
        "        if text_response.status_code != 200:\n",
        "          print(f\"Web Crawling Error: {response.status_code}\")\n",
        "          exit()\n",
        "        time.sleep(1)\n",
        "\n",
        "        text = text_response.text\n",
        "        text_data.append(text)\n",
        "\n",
        "\n",
        "# combine together\n",
        "seattle_text = \"\\n\".join(text_data)\n",
        "print(seattle_text)\n",
        "print(f\"Retrieved {len(jan_1925_issues)} from the Seattle Star from January 1925.\")\n"
      ],
      "execution_count": 1,
      "outputs": [
        {
          "output_type": "stream",
          "name": "stdout",
          "text": [
            "Web Crawling Error: 429\n"
          ]
        },
        {
          "output_type": "error",
          "ename": "NameError",
          "evalue": "name 'data' is not defined",
          "traceback": [
            "\u001b[0;31m---------------------------------------------------------------------------\u001b[0m",
            "\u001b[0;31mNameError\u001b[0m                                 Traceback (most recent call last)",
            "\u001b[0;32m<ipython-input-1-0389fea66b9f>\u001b[0m in \u001b[0;36m<cell line: 0>\u001b[0;34m()\u001b[0m\n\u001b[1;32m     14\u001b[0m \u001b[0;34m\u001b[0m\u001b[0m\n\u001b[1;32m     15\u001b[0m \u001b[0;31m# filter by 1925-01\u001b[0m\u001b[0;34m\u001b[0m\u001b[0;34m\u001b[0m\u001b[0m\n\u001b[0;32m---> 16\u001b[0;31m \u001b[0mjan_1925_issues\u001b[0m \u001b[0;34m=\u001b[0m \u001b[0;34m[\u001b[0m\u001b[0missue\u001b[0m \u001b[0;32mfor\u001b[0m \u001b[0missue\u001b[0m \u001b[0;32min\u001b[0m \u001b[0mdata\u001b[0m\u001b[0;34m[\u001b[0m\u001b[0;34m\"issues\"\u001b[0m\u001b[0;34m]\u001b[0m \u001b[0;32mif\u001b[0m \u001b[0missue\u001b[0m\u001b[0;34m[\u001b[0m\u001b[0;34m\"date_issued\"\u001b[0m\u001b[0;34m]\u001b[0m\u001b[0;34m.\u001b[0m\u001b[0mstartswith\u001b[0m\u001b[0;34m(\u001b[0m\u001b[0;34m\"1925-01\"\u001b[0m\u001b[0;34m)\u001b[0m\u001b[0;34m]\u001b[0m\u001b[0;34m\u001b[0m\u001b[0;34m\u001b[0m\u001b[0m\n\u001b[0m\u001b[1;32m     17\u001b[0m \u001b[0mprint\u001b[0m\u001b[0;34m(\u001b[0m\u001b[0mjan_1925_issues\u001b[0m\u001b[0;34m)\u001b[0m\u001b[0;34m\u001b[0m\u001b[0;34m\u001b[0m\u001b[0m\n\u001b[1;32m     18\u001b[0m \u001b[0;34m\u001b[0m\u001b[0m\n",
            "\u001b[0;31mNameError\u001b[0m: name 'data' is not defined"
          ]
        }
      ]
    },
    {
      "cell_type": "markdown",
      "metadata": {
        "id": "L1-oRTixPKbw"
      },
      "source": [
        "**TODO**: Write code to tokenize the text and count the resulting terms in each document. Since this data comes from automatically transcribing printed pages, some words may be hyphenated across line breaks. There is more than one right way to tokenize this data, so add comments to your code documenting your choices."
      ]
    },
    {
      "cell_type": "code",
      "metadata": {
        "id": "Ydsh0h74Pnlh",
        "colab": {
          "base_uri": "https://localhost:8080/"
        },
        "outputId": "7e9efe4a-5175-4a66-dea5-6f3b9ec80d66"
      },
      "source": [
        "# TODO: Tokenization code here.\n",
        "import re\n",
        "\n",
        "def tokenize(text):\n",
        "    words = re.findall(r'\\b\\w+\\b', text.lower())\n",
        "    return words\n",
        "\n",
        "seattle_tokens = tokenize(seattle_text)\n",
        "print(f\"Total tokens in Seattle Star from January 1925: {len(seattle_tokens)}\")\n"
      ],
      "execution_count": 20,
      "outputs": [
        {
          "output_type": "stream",
          "name": "stdout",
          "text": [
            "Total tokens in Seattle Star from January 1925: 47169\n"
          ]
        }
      ]
    },
    {
      "cell_type": "markdown",
      "metadata": {
        "id": "D-boFCotQ4Ur"
      },
      "source": [
        "**TODO**: Plot a graph of the log rank against log frequency for your collection, as you did for the sample collection above."
      ]
    },
    {
      "cell_type": "code",
      "source": [
        "# TODO: Plotting code here.\n",
        "from collections import Counter\n",
        "\n",
        "seattle_freq = Counter(seattle_tokens)\n",
        "seattle_sorted = sorted(seattle_freq.items(), key=lambda x: -x[1])\n",
        "\n",
        "ranks = np.log10(np.arange(1, len(seattle_sorted) + 1))\n",
        "frequencies = np.log10([count for _, count in seattle_sorted])\n",
        "\n",
        "plt.figure(figsize=(8,6))\n",
        "plt.plot(ranks, frequencies, marker='o', linestyle='none')\n",
        "plt.xlabel(\"log(rank)\")\n",
        "plt.ylabel(\"log(frequency)\")\n",
        "plt.title(\"Zipf's Law: Seattle Star 1925 Term Rank vs Frequency\")\n",
        "plt.show()\n"
      ],
      "metadata": {
        "id": "-Z35asgBjiqO",
        "colab": {
          "base_uri": "https://localhost:8080/",
          "height": 564
        },
        "outputId": "b7ee03bd-28f6-43d2-d2f5-594e7dc0f5e8"
      },
      "execution_count": 21,
      "outputs": [
        {
          "output_type": "display_data",
          "data": {
            "text/plain": [
              "<Figure size 800x600 with 1 Axes>"
            ],
            "image/png": "[encoded data removed]"
          },
          "metadata": {}
        }
      ]
    },
    {
      "cell_type": "markdown",
      "source": [
        "**TODO**: What do you observe about the differences between the distributions of the Associated Press and Seattle Star collections? In this text box, give some possible reasons for these differences."
      ],
      "metadata": {
        "id": "D5B-h__CjpvI"
      }
    },
    {
      "cell_type": "markdown",
      "source": [],
      "metadata": {
        "id": "w-LUHdV04RGU"
      }
    }
  ]
}